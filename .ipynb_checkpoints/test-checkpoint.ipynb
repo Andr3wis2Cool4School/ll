{
 "cells": [
  {
   "cell_type": "code",
   "execution_count": 24,
   "metadata": {},
   "outputs": [
    {
     "name": "stdout",
     "output_type": "stream",
     "text": [
      "2\n",
      "[3]\n"
     ]
    }
   ],
   "source": [
    "num2 = [1, 1, 0, 1]\n",
    "num3 = [1,1,0,1,1,1]\n",
    "\n",
    "res = []\n",
    "con = 1\n",
    "for i in num2:\n",
    "    if num2 == [] or len(num2) == 0:\n",
    "        print('null list')\n",
    "    else:\n",
    "        if index > 0:\n",
    "            if i == 1:\n",
    "                con += 1\n",
    "            else:\n",
    "                res.append(con)\n",
    "                con = 1\n",
    "\n",
    "\n",
    "    \n",
    "    \n",
    "print(con)\n",
    "print(res)\n",
    "    \n",
    "    "
   ]
  },
  {
   "cell_type": "code",
   "execution_count": 17,
   "metadata": {},
   "outputs": [
    {
     "name": "stdout",
     "output_type": "stream",
     "text": [
      "0 ------ 1\n",
      "1 ------ 2\n",
      "2 ------ 3\n"
     ]
    }
   ],
   "source": [
    "for index, i in enumerate([1, 2, 3]):\n",
    "    print(index, '------', i)"
   ]
  },
  {
   "cell_type": "code",
   "execution_count": null,
   "metadata": {},
   "outputs": [],
   "source": []
  },
  {
   "cell_type": "code",
   "execution_count": null,
   "metadata": {},
   "outputs": [],
   "source": []
  },
  {
   "cell_type": "code",
   "execution_count": null,
   "metadata": {},
   "outputs": [],
   "source": []
  }
 ],
 "metadata": {
  "kernelspec": {
   "display_name": "Python 3",
   "language": "python",
   "name": "python3"
  },
  "language_info": {
   "codemirror_mode": {
    "name": "ipython",
    "version": 3
   },
   "file_extension": ".py",
   "mimetype": "text/x-python",
   "name": "python",
   "nbconvert_exporter": "python",
   "pygments_lexer": "ipython3",
   "version": "3.8.5"
  }
 },
 "nbformat": 4,
 "nbformat_minor": 4
}
